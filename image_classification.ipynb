{
  "nbformat": 4,
  "nbformat_minor": 0,
  "metadata": {
    "colab": {
      "name": "image classification.ipynb",
      "provenance": [],
      "authorship_tag": "ABX9TyPg8B71e0lknNKh8v3Y9S+f",
      "include_colab_link": true
    },
    "kernelspec": {
      "name": "python3",
      "display_name": "Python 3"
    }
  },
  "cells": [
    {
      "cell_type": "markdown",
      "metadata": {
        "id": "view-in-github",
        "colab_type": "text"
      },
      "source": [
        "<a href=\"https://colab.research.google.com/github/satyaabdul/Deep-Learning/blob/master/image_classification.ipynb\" target=\"_parent\"><img src=\"https://colab.research.google.com/assets/colab-badge.svg\" alt=\"Open In Colab\"/></a>"
      ]
    },
    {
      "cell_type": "markdown",
      "metadata": {
        "id": "XQLc9nKh2Czb",
        "colab_type": "text"
      },
      "source": [
        "# **Deep Learning**\n",
        "\n",
        "**Image Classification**\n",
        "\n",
        "\n",
        "1.   **RNN**\n",
        "2.   **LSTM**\n",
        "3.   **GRU** \n",
        "4.   **Bidirectional LSTM**\n"
      ]
    },
    {
      "cell_type": "markdown",
      "metadata": {
        "id": "S3PeH4tY15Bf",
        "colab_type": "text"
      },
      "source": [
        "\n",
        "\n",
        "---\n",
        "## **Persiapan Data**\n"
      ]
    },
    {
      "cell_type": "code",
      "metadata": {
        "id": "ps01YvSSCPBD",
        "colab_type": "code",
        "colab": {
          "base_uri": "https://localhost:8080/",
          "height": 34
        },
        "outputId": "adb5e8bd-0855-4612-88e6-d99cb00c3847"
      },
      "source": [
        "%tensorflow_version 2.x"
      ],
      "execution_count": 3,
      "outputs": [
        {
          "output_type": "stream",
          "text": [
            "TensorFlow is already loaded. Please restart the runtime to change versions.\n"
          ],
          "name": "stdout"
        }
      ]
    },
    {
      "cell_type": "code",
      "metadata": {
        "id": "fXAQLcYCCmCo",
        "colab_type": "code",
        "colab": {
          "base_uri": "https://localhost:8080/",
          "height": 102
        },
        "outputId": "2304197f-7958-40d9-9e91-e7f4f12c183d"
      },
      "source": [
        "#data yang digunakan cifar10\n",
        "#klasifikasi gambar dengan 10 kelas\n",
        "from keras.datasets import cifar10\n",
        "from keras.utils import np_utils\n",
        "\n",
        "(x_train, y_train), (x_test, y_test) = cifar10.load_data()\n",
        "\n",
        "# ubah class vectors ke binary vectors\n",
        "y_train = np_utils.to_categorical(y_train)\n",
        "y_test = np_utils.to_categorical(y_test)\n",
        "\n",
        "#print train dan test shape\n",
        "print('x_train shape:', x_train.shape)\n",
        "print('y_train shape:', y_train.shape)\n",
        "print('x_test shape:', x_test.shape)\n",
        "print('y_test shape:', y_test.shape)"
      ],
      "execution_count": 4,
      "outputs": [
        {
          "output_type": "stream",
          "text": [
            "Using TensorFlow backend.\n"
          ],
          "name": "stderr"
        },
        {
          "output_type": "stream",
          "text": [
            "x_train shape: (50000, 32, 32, 3)\n",
            "y_train shape: (50000, 10)\n",
            "x_test shape: (10000, 32, 32, 3)\n",
            "y_test shape: (10000, 10)\n"
          ],
          "name": "stdout"
        }
      ]
    },
    {
      "cell_type": "code",
      "metadata": {
        "id": "0klQwpUGLJRb",
        "colab_type": "code",
        "colab": {
          "base_uri": "https://localhost:8080/",
          "height": 169
        },
        "outputId": "10870581-ab7d-4253-b31e-d25260ff3489"
      },
      "source": [
        "import matplotlib.pyplot as plt\n",
        "import numpy as np\n",
        "\n",
        "def grayscale(data, dtype='float32'):\n",
        "    # convert RGB ke luma grayscale\n",
        "    r, g, b = np.asarray(.3, dtype=dtype), np.asarray(.59, dtype=dtype), np.asarray(.11, dtype=dtype)\n",
        "    rst = r * data[:, :, :, 0] + g * data[:, :, :, 1] + b * data[:, :, :, 2]\n",
        "    # dimensi channel\n",
        "    rst = np.expand_dims(rst, axis=3)\n",
        "    return rst\n",
        "\n",
        "#definisikan x train dan test yang sudah di ubah menjadi grayscale\n",
        "x_train_gray = grayscale(x_train)\n",
        "x_test_gray = grayscale(x_test)\n",
        "\n",
        "# deskripsikan chanelnya cuma 1\n",
        "img_channels = 1\n",
        "\n",
        "# coba plot gambar indeks ke-\n",
        "img = 8\n",
        "plt.figure(figsize=(4, 2))\n",
        "plt.subplot(1, 2, 1)\n",
        "plt.imshow(x_train[img], interpolation='none')\n",
        "plt.subplot(1, 2, 2)\n",
        "plt.imshow(x_train_gray[img, :, :, 0], cmap=plt.get_cmap('gray'), interpolation='none')\n",
        "plt.show()\n",
        "#kelas gambar\n",
        "#1)airplane 2)automobile 3)bird 4)cat 5)deer 6)dog 7)frog 8)horse 9)ship 10)truck\n",
        "print(y_train[img])"
      ],
      "execution_count": 5,
      "outputs": [
        {
          "output_type": "display_data",
          "data": {
            "image/png": "[encoded data removed]",
            "text/plain": [
              "<Figure size 288x144 with 2 Axes>"
            ]
          },
          "metadata": {
            "tags": []
          }
        },
        {
          "output_type": "stream",
          "text": [
            "[0. 0. 0. 0. 0. 0. 0. 0. 1. 0.]\n"
          ],
          "name": "stdout"
        }
      ]
    },
    {
      "cell_type": "code",
      "metadata": {
        "id": "CC0fE6_AOhc9",
        "colab_type": "code",
        "colab": {
          "base_uri": "https://localhost:8080/",
          "height": 51
        },
        "outputId": "3ab12875-d84b-4b6a-93fe-7e965d7dd602"
      },
      "source": [
        "from sklearn.model_selection import train_test_split\n",
        "\n",
        "#split data ke data train menjadi data train dan validasi  dari x_train_gray\n",
        "x_train_gray, x_val_gray, y_train, y_val = train_test_split(x_train_gray, y_train, test_size=0.2, random_state=0)\n",
        "\n",
        "#print ukuran \n",
        "print('x_train_gray shape:', x_train_gray.shape)\n",
        "print('x_val_gray shape:', x_val_gray.shape)"
      ],
      "execution_count": 6,
      "outputs": [
        {
          "output_type": "stream",
          "text": [
            "x_train_gray shape: (40000, 32, 32, 1)\n",
            "x_val_gray shape: (10000, 32, 32, 1)\n"
          ],
          "name": "stdout"
        }
      ]
    },
    {
      "cell_type": "markdown",
      "metadata": {
        "id": "-Zx1Ersc1eRE",
        "colab_type": "text"
      },
      "source": [
        "\n",
        "\n",
        "---\n",
        "\n",
        "## **Deep Learning - RNN**\n",
        "\n"
      ]
    },
    {
      "cell_type": "code",
      "metadata": {
        "id": "__n7XHNtPJOj",
        "colab_type": "code",
        "colab": {
          "base_uri": "https://localhost:8080/",
          "height": 258
        },
        "outputId": "83b6b2bf-9547-4163-e0b1-e79146366c6b"
      },
      "source": [
        "from tensorflow.keras.models import Sequential\n",
        "from tensorflow.keras.layers import SimpleRNN,Dense,Flatten,Embedding\n",
        "\n",
        "#proses sequential\n",
        "model_RNN = Sequential()\n",
        "#ubah input menjadi array 1-D (img size x img size x img channels)\n",
        "model_RNN.add(Flatten(input_shape=(32,32,1)))\n",
        "#embedding imput flatten\n",
        "model_RNN.add(Embedding(10000, 32))\n",
        "#gunakan RNN dengan 32 neuron/memory\n",
        "model_RNN.add(SimpleRNN(32))\n",
        "#hiden layers dengan 64 neuron/memory\n",
        "model_RNN.add(Dense(64,activation='relu'))\n",
        "#hiden layers 2 dengan 64 neuron/memory\n",
        "model_RNN.add(Dense(64,activation='relu'))\n",
        "#output layer dengan 10 neuron/memory\n",
        "model_RNN.add(Dense(10,activation='softmax'))\n",
        "#compile model\n",
        "model_RNN.compile(optimizer='adam', loss='categorical_crossentropy', metrics=['accuracy'])\n",
        "#history RNN\n",
        "hist_RNN = model_RNN.fit(x_train_gray,y_train,\n",
        "                         batch_size=128,\n",
        "                         epochs=6,\n",
        "                         validation_data=(x_val_gray,y_val))\n",
        "# model_RNN.summary()"
      ],
      "execution_count": 13,
      "outputs": [
        {
          "output_type": "stream",
          "text": [
            "Train on 40000 samples, validate on 10000 samples\n",
            "Epoch 1/6\n",
            "40000/40000 [==============================] - 75s 2ms/sample - loss: 2.2965 - acc: 0.1154 - val_loss: 2.2899 - val_acc: 0.1266\n",
            "Epoch 2/6\n",
            "40000/40000 [==============================] - 74s 2ms/sample - loss: 2.2642 - acc: 0.1465 - val_loss: 2.2363 - val_acc: 0.1670\n",
            "Epoch 3/6\n",
            "40000/40000 [==============================] - 75s 2ms/sample - loss: 2.2488 - acc: 0.1572 - val_loss: 2.2486 - val_acc: 0.1641\n",
            "Epoch 4/6\n",
            "40000/40000 [==============================] - 75s 2ms/sample - loss: 2.2639 - acc: 0.1470 - val_loss: 2.2758 - val_acc: 0.1357\n",
            "Epoch 5/6\n",
            "40000/40000 [==============================] - 75s 2ms/sample - loss: 2.2605 - acc: 0.1503 - val_loss: 2.2501 - val_acc: 0.1537\n",
            "Epoch 6/6\n",
            "40000/40000 [==============================] - 74s 2ms/sample - loss: 2.2453 - acc: 0.1614 - val_loss: 2.2409 - val_acc: 0.1617\n"
          ],
          "name": "stdout"
        }
      ]
    },
    {
      "cell_type": "code",
      "metadata": {
        "id": "ThOqg46YzTKW",
        "colab_type": "code",
        "colab": {
          "base_uri": "https://localhost:8080/",
          "height": 51
        },
        "outputId": "f5970d1c-b578-46d9-caa7-e1a7774e716f"
      },
      "source": [
        "#print akurasi dan loss RNN\n",
        "loss_RNN, acc_RNN = model_RNN.evaluate(x_test_gray, y_test, verbose=0)\n",
        "print(\"Accuracy: %.2f\" % (acc_RNN*100), \"%\")\n",
        "print(\"Loss: %.2f\" % (loss_RNN*100), \"%\")"
      ],
      "execution_count": 14,
      "outputs": [
        {
          "output_type": "stream",
          "text": [
            "Accuracy: 16.94 %\n",
            "Loss: 224.02 %\n"
          ],
          "name": "stdout"
        }
      ]
    },
    {
      "cell_type": "markdown",
      "metadata": {
        "id": "Oy_bzoPO1sAL",
        "colab_type": "text"
      },
      "source": [
        "\n",
        "\n",
        "---\n",
        "## **Deep Learning - LSTM**\n"
      ]
    },
    {
      "cell_type": "code",
      "metadata": {
        "id": "gcPoOsDctnY2",
        "colab_type": "code",
        "colab": {
          "base_uri": "https://localhost:8080/",
          "height": 309
        },
        "outputId": "417628d0-7753-43d5-d114-2b8b06508de2"
      },
      "source": [
        "from tensorflow.keras.models import Sequential\n",
        "from tensorflow.keras.layers import LSTM,Dense,Flatten,Embedding\n",
        "\n",
        "#proses sequential\n",
        "model_LSTM = Sequential()\n",
        "#ubah input menjadi array 1-D (img size x img size x img channels)\n",
        "model_LSTM.add(Flatten(input_shape=(32,32,1)))\n",
        "#embedding imput flatten\n",
        "model_LSTM.add(Embedding(10000, 32))\n",
        "#gunakan LSTM dengan 32 neuron/memory\n",
        "model_LSTM.add(LSTM(32))\n",
        "#hiden layers dengan 64 neuron/memory\n",
        "model_LSTM.add(Dense(64,activation='relu'))\n",
        "#hiden layers 2 dengan 64 neuron/memory\n",
        "model_LSTM.add(Dense(64,activation='relu'))\n",
        "#output layer dengan 10 neuron/memory\n",
        "model_LSTM.add(Dense(10,activation='softmax'))\n",
        "#compile model\n",
        "model_LSTM.compile(optimizer='adam', loss='categorical_crossentropy', metrics=['accuracy'])\n",
        "#history LSTM\n",
        "hist_LSTM = model_LSTM.fit(x_train_gray,y_train,\n",
        "                         batch_size=128,\n",
        "                         epochs=6,\n",
        "                         validation_data=(x_val_gray,y_val))\n",
        "# model_LSTM.summary()"
      ],
      "execution_count": 9,
      "outputs": [
        {
          "output_type": "stream",
          "text": [
            "WARNING:tensorflow:From /tensorflow-1.15.0/python3.6/tensorflow_core/python/ops/math_grad.py:1424: where (from tensorflow.python.ops.array_ops) is deprecated and will be removed in a future version.\n",
            "Instructions for updating:\n",
            "Use tf.where in 2.0, which has the same broadcast rule as np.where\n",
            "Train on 40000 samples, validate on 10000 samples\n",
            "Epoch 1/6\n",
            "40000/40000 [==============================] - 190s 5ms/sample - loss: 2.2928 - acc: 0.1243 - val_loss: 2.2819 - val_acc: 0.1392\n",
            "Epoch 2/6\n",
            "40000/40000 [==============================] - 188s 5ms/sample - loss: 2.2696 - acc: 0.1450 - val_loss: 2.3271 - val_acc: 0.1116\n",
            "Epoch 3/6\n",
            "40000/40000 [==============================] - 187s 5ms/sample - loss: 2.2814 - acc: 0.1323 - val_loss: 2.2686 - val_acc: 0.1403\n",
            "Epoch 4/6\n",
            "40000/40000 [==============================] - 189s 5ms/sample - loss: 2.2526 - acc: 0.1598 - val_loss: 2.2526 - val_acc: 0.1517\n",
            "Epoch 5/6\n",
            "40000/40000 [==============================] - 187s 5ms/sample - loss: 2.2431 - acc: 0.1641 - val_loss: 2.2493 - val_acc: 0.1522\n",
            "Epoch 6/6\n",
            "40000/40000 [==============================] - 188s 5ms/sample - loss: 2.2420 - acc: 0.1622 - val_loss: 2.2478 - val_acc: 0.1575\n"
          ],
          "name": "stdout"
        }
      ]
    },
    {
      "cell_type": "code",
      "metadata": {
        "id": "iWidwbJav0Vt",
        "colab_type": "code",
        "colab": {
          "base_uri": "https://localhost:8080/",
          "height": 51
        },
        "outputId": "07b31530-9f49-4fbe-e305-7434d697ae2d"
      },
      "source": [
        "#print akurasi dan loss LSTM\n",
        "loss_LSTM, acc_LSTM = model_LSTM.evaluate(x_test_gray, y_test, verbose=0)\n",
        "print(\"Accuracy: %.2f\" % (acc_LSTM*100), \"%\")\n",
        "print(\"Loss: %.2f\" % (loss_LSTM*100), \"%\")"
      ],
      "execution_count": 11,
      "outputs": [
        {
          "output_type": "stream",
          "text": [
            "Accuracy: 16.47 %\n",
            "Loss: 224.66 %\n"
          ],
          "name": "stdout"
        }
      ]
    },
    {
      "cell_type": "markdown",
      "metadata": {
        "id": "NEEhs7752naM",
        "colab_type": "text"
      },
      "source": [
        "\n",
        "\n",
        "---\n",
        "\n",
        "## **Deep Learning - GRU**"
      ]
    },
    {
      "cell_type": "code",
      "metadata": {
        "id": "9V3nmfZ12x1x",
        "colab_type": "code",
        "colab": {
          "base_uri": "https://localhost:8080/",
          "height": 258
        },
        "outputId": "5fc7b816-94c6-4ad2-fa59-ef8102442e2e"
      },
      "source": [
        "from tensorflow.keras.models import Sequential\n",
        "from tensorflow.keras.layers import GRU,Dense,Flatten,Embedding\n",
        "\n",
        "#proses sequential\n",
        "model_GRU = Sequential()\n",
        "#ubah input menjadi array 1-D (img size x img size x img channels)\n",
        "model_GRU.add(Flatten(input_shape=(32,32,1)))\n",
        "#embedding imput flatten\n",
        "model_GRU.add(Embedding(10000, 32))\n",
        "#gunakan GRU dengan 32 neuron/memory\n",
        "model_GRU.add(GRU(32))\n",
        "#hiden layers dengan 64 neuron/memory\n",
        "model_GRU.add(Dense(64,activation='relu'))\n",
        "#hiden layers 2 dengan 64 neuron/memory\n",
        "model_GRU.add(Dense(64,activation='relu'))\n",
        "#output layer dengan 10 neuron/memory\n",
        "model_GRU.add(Dense(10,activation='softmax'))\n",
        "#compile model\n",
        "model_GRU.compile(optimizer='adam', loss='categorical_crossentropy', metrics=['accuracy'])\n",
        "#history LSTM\n",
        "hist_GRU = model_GRU.fit(x_train_gray,y_train,\n",
        "                         batch_size=128,\n",
        "                         epochs=6,\n",
        "                         validation_data=(x_val_gray,y_val))\n",
        "# model_LSTM.summary()"
      ],
      "execution_count": 15,
      "outputs": [
        {
          "output_type": "stream",
          "text": [
            "Train on 40000 samples, validate on 10000 samples\n",
            "Epoch 1/6\n",
            "40000/40000 [==============================] - 289s 7ms/sample - loss: 2.2897 - acc: 0.1243 - val_loss: 2.2766 - val_acc: 0.1390\n",
            "Epoch 2/6\n",
            "40000/40000 [==============================] - 286s 7ms/sample - loss: 2.2560 - acc: 0.1552 - val_loss: 2.2066 - val_acc: 0.1683\n",
            "Epoch 3/6\n",
            "40000/40000 [==============================] - 288s 7ms/sample - loss: 2.2174 - acc: 0.1702 - val_loss: 2.1968 - val_acc: 0.1703\n",
            "Epoch 4/6\n",
            "40000/40000 [==============================] - 286s 7ms/sample - loss: 2.1423 - acc: 0.2005 - val_loss: 2.1262 - val_acc: 0.2053\n",
            "Epoch 5/6\n",
            "40000/40000 [==============================] - 287s 7ms/sample - loss: 2.0735 - acc: 0.2293 - val_loss: 2.0193 - val_acc: 0.2505\n",
            "Epoch 6/6\n",
            "40000/40000 [==============================] - 286s 7ms/sample - loss: 1.9564 - acc: 0.2741 - val_loss: 1.9208 - val_acc: 0.2839\n"
          ],
          "name": "stdout"
        }
      ]
    },
    {
      "cell_type": "code",
      "metadata": {
        "id": "P60yyW5c3Fah",
        "colab_type": "code",
        "colab": {
          "base_uri": "https://localhost:8080/",
          "height": 51
        },
        "outputId": "67c7e08e-9263-4f7d-cf4d-e13d8ab1609b"
      },
      "source": [
        "#print akurasi dan loss GRU\n",
        "loss_GRU, acc_GRU = model_GRU.evaluate(x_test_gray, y_test, verbose=0)\n",
        "print(\"Accuracy: %.2f\" % (acc_GRU*100), \"%\")\n",
        "print(\"Loss: %.2f\" % (loss_GRU*100), \"%\")"
      ],
      "execution_count": 16,
      "outputs": [
        {
          "output_type": "stream",
          "text": [
            "Accuracy: 28.10 %\n",
            "Loss: 193.86 %\n"
          ],
          "name": "stdout"
        }
      ]
    },
    {
      "cell_type": "markdown",
      "metadata": {
        "id": "WPzDY6ZT3Ul9",
        "colab_type": "text"
      },
      "source": [
        "\n",
        "\n",
        "---\n",
        "## **Deep Learning - Bidirectional LSTM**\n"
      ]
    },
    {
      "cell_type": "code",
      "metadata": {
        "id": "UDGYmseN3cLj",
        "colab_type": "code",
        "colab": {
          "base_uri": "https://localhost:8080/",
          "height": 411
        },
        "outputId": "6b143d01-90cc-40cd-d3f6-ce5566d0b11c"
      },
      "source": [
        "from tensorflow.keras.models import Sequential\n",
        "from tensorflow.keras.layers import Bidirectional,LSTM,Dense,Flatten,Embedding\n",
        "\n",
        "#proses sequential\n",
        "model_BLSTM = Sequential()\n",
        "#ubah input menjadi array 1-D (img size x img size x img channels)\n",
        "model_BLSTM.add(Flatten(input_shape=(32,32,1)))\n",
        "#embedding imput flatten\n",
        "model_BLSTM.add(Embedding(10000, 32))\n",
        "#gunakan Bidirectinal LSTM dengan 32 neuron/memory\n",
        "model_BLSTM.add(Bidirectional(LSTM(32)))\n",
        "#hiden layers dengan 64 neuron/memory\n",
        "model_BLSTM.add(Dense(64,activation='relu'))\n",
        "#hiden layers 2 dengan 64 neuron/memory\n",
        "model_BLSTM.add(Dense(64,activation='relu'))\n",
        "#output layer dengan 10 neuron/memory\n",
        "model_BLSTM.add(Dense(10,activation='softmax'))\n",
        "#compile model\n",
        "model_BLSTM.compile(optimizer='adam', loss='categorical_crossentropy', metrics=['accuracy'])\n",
        "#history BLSTM\n",
        "hist_BLSTM = model_BLSTM.fit(x_train_gray,y_train,\n",
        "                         batch_size=128,\n",
        "                         epochs=6,\n",
        "                         validation_data=(x_val_gray,y_val))\n",
        "# model_BLSTM.summary()"
      ],
      "execution_count": 17,
      "outputs": [
        {
          "output_type": "stream",
          "text": [
            "WARNING:tensorflow:From /tensorflow-1.15.0/python3.6/tensorflow_core/python/ops/init_ops.py:97: calling GlorotUniform.__init__ (from tensorflow.python.ops.init_ops) with dtype is deprecated and will be removed in a future version.\n",
            "Instructions for updating:\n",
            "Call initializer instance with the dtype argument instead of passing it to the constructor\n",
            "WARNING:tensorflow:From /tensorflow-1.15.0/python3.6/tensorflow_core/python/ops/init_ops.py:97: calling Orthogonal.__init__ (from tensorflow.python.ops.init_ops) with dtype is deprecated and will be removed in a future version.\n",
            "Instructions for updating:\n",
            "Call initializer instance with the dtype argument instead of passing it to the constructor\n",
            "WARNING:tensorflow:From /tensorflow-1.15.0/python3.6/tensorflow_core/python/ops/init_ops.py:97: calling Zeros.__init__ (from tensorflow.python.ops.init_ops) with dtype is deprecated and will be removed in a future version.\n",
            "Instructions for updating:\n",
            "Call initializer instance with the dtype argument instead of passing it to the constructor\n",
            "Train on 40000 samples, validate on 10000 samples\n",
            "Epoch 1/6\n",
            "40000/40000 [==============================] - 663s 17ms/sample - loss: 2.2290 - acc: 0.1590 - val_loss: 2.1952 - val_acc: 0.1785\n",
            "Epoch 2/6\n",
            "40000/40000 [==============================] - 675s 17ms/sample - loss: 2.1617 - acc: 0.2051 - val_loss: 2.1109 - val_acc: 0.2182\n",
            "Epoch 3/6\n",
            "40000/40000 [==============================] - 675s 17ms/sample - loss: 2.1441 - acc: 0.2075 - val_loss: 2.1444 - val_acc: 0.2018\n",
            "Epoch 4/6\n",
            "40000/40000 [==============================] - 678s 17ms/sample - loss: 2.1064 - acc: 0.2189 - val_loss: 2.0788 - val_acc: 0.2203\n",
            "Epoch 5/6\n",
            "40000/40000 [==============================] - 677s 17ms/sample - loss: 2.0936 - acc: 0.2281 - val_loss: 2.1352 - val_acc: 0.2099\n",
            "Epoch 6/6\n",
            "40000/40000 [==============================] - 677s 17ms/sample - loss: 2.1018 - acc: 0.2288 - val_loss: 2.0786 - val_acc: 0.2372\n"
          ],
          "name": "stdout"
        }
      ]
    },
    {
      "cell_type": "code",
      "metadata": {
        "id": "cbVOdsWE4Q34",
        "colab_type": "code",
        "colab": {
          "base_uri": "https://localhost:8080/",
          "height": 51
        },
        "outputId": "278eecd3-248e-4882-d94f-55617e24acea"
      },
      "source": [
        "#print akurasi dan loss BLSTM\n",
        "loss_BLSTM, acc_BLSTM = model_BLSTM.evaluate(x_test_gray, y_test, verbose=0)\n",
        "print(\"Accuracy: %.2f\" % (acc_BLSTM*100), \"%\")\n",
        "print(\"Loss: %.2f\" % (loss_BLSTM*100), \"%\")"
      ],
      "execution_count": 18,
      "outputs": [
        {
          "output_type": "stream",
          "text": [
            "Accuracy: 23.50 %\n",
            "Loss: 208.92 %\n"
          ],
          "name": "stdout"
        }
      ]
    }
  ]
}